{
 "cells": [
  {
   "cell_type": "code",
   "execution_count": 1,
   "id": "a0995534-20ca-4147-a505-1a692e064662",
   "metadata": {},
   "outputs": [],
   "source": [
    "## Collect Reddit content via public API\n",
    "import json\n",
    "import praw"
   ]
  },
  {
   "cell_type": "code",
   "execution_count": 2,
   "id": "4247a11b-7509-4e4a-94ab-d8eca3ffe993",
   "metadata": {},
   "outputs": [],
   "source": [
    "# IMPORTANT: enter proper access credential in the config-file;\n",
    "# make sure it is available in the same folder where this notebook is running\n",
    "import config_reddit"
   ]
  },
  {
   "cell_type": "code",
   "execution_count": 3,
   "id": "0d7fca71-7322-4136-a40e-62aee0498fba",
   "metadata": {},
   "outputs": [
    {
     "name": "stderr",
     "output_type": "stream",
     "text": [
      "Version 7.7.1 of praw is outdated. Version 7.8.1 was released Friday October 25, 2024.\n"
     ]
    },
    {
     "data": {
      "text/plain": [
       "True"
      ]
     },
     "execution_count": 3,
     "metadata": {},
     "output_type": "execute_result"
    }
   ],
   "source": [
    "# establish an API connection and verify read-only access\n",
    "reddit = praw.Reddit(user_agent    = f\"Content exploration by {config_reddit.app_name}\",\n",
    "                     client_id     = config_reddit.app_id,\n",
    "                     client_secret = config_reddit.app_secret)\n",
    "reddit.read_only"
   ]
  },
  {
   "cell_type": "code",
   "execution_count": 4,
   "id": "acee09ac-5a82-49c4-9131-efd36b02d92e",
   "metadata": {},
   "outputs": [],
   "source": [
    "# choose a subreddit of interest\n",
    "# MODIFY this to what you prefer to analyze\n",
    "#\n",
    "# Example (take the string from the ending-part of the subreddit URL):\n",
    "#  https://www.reddit.com/r/travel/\n",
    "query_subreddit = 'travel'"
   ]
  },
  {
   "cell_type": "code",
   "execution_count": 5,
   "id": "702d8d08-507d-456a-abb1-2bb1206adc9f",
   "metadata": {},
   "outputs": [],
   "source": [
    "# decide how many top-\"hot\" posts to query\n",
    "# keep in mind data query limitations for very active subreddits\n",
    "nposts = 20"
   ]
  },
  {
   "cell_type": "code",
   "execution_count": 6,
   "id": "9a7d407a-764d-44f5-bb68-27ef7e9bc54d",
   "metadata": {},
   "outputs": [
    {
     "data": {
      "text/plain": [
       "20"
      ]
     },
     "execution_count": 6,
     "metadata": {},
     "output_type": "execute_result"
    }
   ],
   "source": [
    "# collect ids of the top posts within the chosen subreddit\n",
    "post_ids = []\n",
    "subreddit = reddit.subreddit(query_subreddit)\n",
    "for p in subreddit.hot(limit = nposts):\n",
    "    post_ids.append(p.id)\n",
    "# check how many posts (submissions) were collected\n",
    "len(post_ids)"
   ]
  },
  {
   "cell_type": "code",
   "execution_count": 7,
   "id": "cddf3013-f5f4-4d55-96db-57293bd95367",
   "metadata": {},
   "outputs": [
    {
     "name": "stdout",
     "output_type": "stream",
     "text": [
      "All Layover Questions - READ THIS NOTICE\n",
      "**READ THE NEW LAYOVER FAQ:** [**https://www.reddit.com/r/travel/wiki/mfaq-flying/layovers**](https://www.reddit.com/r/travel/wiki/mfaq-flying/layovers)\n",
      "\n",
      "All layover questions will be removed unless your situation is unique and cannot be answered by the wiki.\n",
      "\n",
      "**Members of the community**: please report any layover questions that can be answered by the wiki and we will remove them promptly.\n",
      "\n",
      "Self-transfers times are not covered under this new guideline and wiki.\n"
     ]
    }
   ],
   "source": [
    "# example post details\n",
    "post_details = reddit.submission(id = post_ids[0])\n",
    "print(post_details.title)\n",
    "print(post_details.selftext)"
   ]
  },
  {
   "cell_type": "code",
   "execution_count": 8,
   "id": "7f4e6a3a-0346-46d6-8d1c-ac54974b52a1",
   "metadata": {},
   "outputs": [],
   "source": [
    "# decide how many top comments to query per post;\n",
    "# NOTE: larger number of comments may dilute the content (irrelevant text)\n",
    "ncomments = 10"
   ]
  },
  {
   "cell_type": "code",
   "execution_count": 9,
   "id": "871db51c-447d-43cb-bbae-7ba91aaa7a90",
   "metadata": {},
   "outputs": [],
   "source": [
    "# function to collect post data\n",
    "def collect_post_data(post_id, ncomments, reddit):\n",
    "    psubm = reddit.submission(id = post_id)\n",
    "    pdata = {'id': post_id, 'title': psubm.title, 'text': psubm.selftext}\n",
    "    \n",
    "    # collect first- and second-level comments\n",
    "    pcomm = []\n",
    "    psubcomm = []\n",
    "    psubm.comments.replace_more(limit = ncomments)\n",
    "    for top_comment in psubm.comments:\n",
    "        pcomm.append(top_comment.body)\n",
    "        for lev2_comment in top_comment.replies:\n",
    "            psubcomm.append(lev2_comment.body)\n",
    "    \n",
    "    # assemble the data together\n",
    "    pdata['comments_lev1'] = pcomm\n",
    "    pdata['comments_lev2'] = psubcomm\n",
    "    \n",
    "    return pdata"
   ]
  },
  {
   "cell_type": "code",
   "execution_count": 10,
   "id": "e7726c7a-9c7e-46a0-870a-ceef14a8ab07",
   "metadata": {},
   "outputs": [],
   "source": [
    "# collect information for each post;\n",
    "# if you receive server error, try reducing the number of posts requested\n",
    "posts_all = [collect_post_data(pid, ncomments, reddit) for pid in post_ids]"
   ]
  },
  {
   "cell_type": "code",
   "execution_count": 11,
   "id": "48bc4d85-a62b-4d18-a211-eca0c1b138c2",
   "metadata": {},
   "outputs": [],
   "source": [
    "# save collected data to json file (you can inspect it in a web browser, load into pandas etc.)\n",
    "file_out = f\"raw_post_comment_data.json\"\n",
    "with open(file_out, mode='w') as f:\n",
    "    f.write(json.dumps(posts_all, indent = 2))"
   ]
  }
 ],
 "metadata": {
  "kernelspec": {
   "display_name": "Python 3 (ipykernel)",
   "language": "python",
   "name": "python3"
  },
  "language_info": {
   "codemirror_mode": {
    "name": "ipython",
    "version": 3
   },
   "file_extension": ".py",
   "mimetype": "text/x-python",
   "name": "python",
   "nbconvert_exporter": "python",
   "pygments_lexer": "ipython3",
   "version": "3.12.2"
  }
 },
 "nbformat": 4,
 "nbformat_minor": 5
}
